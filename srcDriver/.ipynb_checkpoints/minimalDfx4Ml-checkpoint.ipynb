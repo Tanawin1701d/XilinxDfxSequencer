{
 "cells": [
  {
   "cell_type": "markdown",
   "id": "0f601f86",
   "metadata": {},
   "source": [
    "# DFX + DMA + self trigger"
   ]
  },
  {
   "cell_type": "markdown",
   "id": "df89b6d9",
   "metadata": {},
   "source": [
    "## import section"
   ]
  },
  {
   "cell_type": "code",
   "execution_count": 1,
   "id": "4f99735c",
   "metadata": {},
   "outputs": [],
   "source": [
    "# import the library\n",
    "from pynq import Overlay     # import the overlay\n",
    "from pynq import allocate    # import for CMA (contingeous memory allocation)\n",
    "from pynq import DefaultIP   # import the ip connector library for extension\n",
    "import numpy as np\n",
    "import os\n",
    "import subprocess\n",
    "\n",
    "PRJ_DIR    = '/home/xilinx/jupyter_notebooks/dfx4ml/'\n",
    "PRJ_HW_DIR = '/home/xilinx/jupyter_notebooks/dfx4ml/hw/'\n",
    "\n",
    "FULL_BS_NAME    = 'system.bin'\n",
    "PAR_BS_NAME_0   = 'add.bin'\n",
    "PAR_BS_NAME_1   = 'sub.bin'\n",
    "PAR_BS_NAME_ML1 = 'ml1.bin'\n",
    "PAR_BS_NAME_ML2 = 'ml2.bin'\n",
    "PAR_BS_NAME_ML3 = 'ml3.bin'\n",
    "\n",
    "PAR_BS_NAME_ALL = 'mlx.bin'\n",
    "\n",
    "AMT_QUERY       = 5\n",
    "INPUT_SHAPE     = (AMT_QUERY, 6, 8 )\n",
    "ML2IN_SHAPE     = (AMT_QUERY, 6, 16)\n",
    "ML3IN_SHAPE     = (AMT_QUERY, 6, 8 )\n",
    "DES_SHAPE       = (AMT_QUERY, 5)"
   ]
  },
  {
   "cell_type": "code",
   "execution_count": 2,
   "id": "5f5566b4",
   "metadata": {},
   "outputs": [
    {
     "data": {
      "application/javascript": [
       "\n",
       "try {\n",
       "require(['notebook/js/codecell'], function(codecell) {\n",
       "  codecell.CodeCell.options_default.highlight_modes[\n",
       "      'magic_text/x-csrc'] = {'reg':[/^%%microblaze/]};\n",
       "  Jupyter.notebook.events.one('kernel_ready.Kernel', function(){\n",
       "      Jupyter.notebook.get_cells().map(function(cell){\n",
       "          if (cell.cell_type == 'code'){ cell.auto_highlight(); } }) ;\n",
       "  });\n",
       "});\n",
       "} catch (e) {};\n"
      ]
     },
     "metadata": {},
     "output_type": "display_data"
    },
    {
     "data": {
      "application/javascript": [
       "\n",
       "try {\n",
       "require(['notebook/js/codecell'], function(codecell) {\n",
       "  codecell.CodeCell.options_default.highlight_modes[\n",
       "      'magic_text/x-csrc'] = {'reg':[/^%%pybind11/]};\n",
       "  Jupyter.notebook.events.one('kernel_ready.Kernel', function(){\n",
       "      Jupyter.notebook.get_cells().map(function(cell){\n",
       "          if (cell.cell_type == 'code'){ cell.auto_highlight(); } }) ;\n",
       "  });\n",
       "});\n",
       "} catch (e) {};\n"
      ]
     },
     "metadata": {},
     "output_type": "display_data"
    }
   ],
   "source": [
    "#### load overlay\n",
    "overlay  = Overlay(PRJ_HW_DIR + FULL_BS_NAME)"
   ]
  },
  {
   "cell_type": "code",
   "execution_count": 3,
   "id": "2d6ec143",
   "metadata": {},
   "outputs": [],
   "source": [
    "#### get the device\n",
    "dmaIp         = overlay.axi_dma_0\n",
    "decoupleCtrl  = overlay.axi_gpio_0\n",
    "resetCtrl     = overlay.axi_gpio_1"
   ]
  },
  {
   "cell_type": "code",
   "execution_count": 4,
   "id": "1a3cf683",
   "metadata": {},
   "outputs": [],
   "source": [
    "def decouple():\n",
    "    decoupleCtrl.write(0, 1)\n",
    "\n",
    "def couple():\n",
    "    decoupleCtrl.write(0, 0)\n",
    "\n",
    "def HoldReset():\n",
    "    resetCtrl.write(0, 0)\n",
    "\n",
    "def HoldOperate():\n",
    "    resetCtrl.write(0, 1)"
   ]
  },
  {
   "cell_type": "code",
   "execution_count": 5,
   "id": "09e27c41",
   "metadata": {},
   "outputs": [],
   "source": [
    "def changeDfx(path):\n",
    "    HoldReset()\n",
    "    decouple()\n",
    "    overlay.par0.download(path)\n",
    "    couple()\n",
    "    HoldOperate()"
   ]
  },
  {
   "cell_type": "code",
   "execution_count": 6,
   "id": "d1e6b0c3",
   "metadata": {},
   "outputs": [],
   "source": [
    "def allocDataUint(allocShape = (16, ), allocType = np.float32, inputX = None):\n",
    "    buf0 = allocate(shape=allocShape, dtype=allocType)\n",
    "    #### copy the data\n",
    "    if inputX is not None:\n",
    "        print(\"start copy from input to allocate buffer\")\n",
    "        if (allocShape != inputX.shape) or (allocType != inputX.dtype):\n",
    "            raise Exception(\"the specified shape and inputX shape is mismatch\")\n",
    "        np.copyto(buf0, inputX)\n",
    "        print(\"copy finish\")\n",
    "\n",
    "    return buf0, buf0.physical_address, buf0.nbytes"
   ]
  },
  {
   "cell_type": "code",
   "execution_count": 7,
   "id": "60f2a560",
   "metadata": {},
   "outputs": [],
   "source": [
    "def sendData(bufSrc, bufDes):\n",
    "    print(\"----------> set sending channel\")\n",
    "    #print(X_input)\n",
    "    dmaIp.sendchannel.transfer(bufSrc)\n",
    "    print(\"----------> set receiving channel\")\n",
    "    dmaIp.recvchannel.transfer(bufDes)\n",
    "    print(\"----------> wait for sending channel\")\n",
    "    dmaIp.sendchannel.wait()\n",
    "    print(\"----------> wait for receiving channel\")\n",
    "    dmaIp.recvchannel.wait()\n",
    "    print(\"----------> dma finish\")\n"
   ]
  },
  {
   "cell_type": "code",
   "execution_count": 8,
   "id": "577666e9",
   "metadata": {},
   "outputs": [
    {
     "name": "stdout",
     "output_type": "stream",
     "text": [
      "start copy from input to allocate buffer\n",
      "copy finish\n"
     ]
    }
   ],
   "source": [
    "inputX = np.random.rand(*INPUT_SHAPE).astype(np.float32)\n",
    "buf_input   , buf_input_phya   , buf_input_sz    = allocDataUint(allocShape= INPUT_SHAPE, allocType= np.float32, inputX = inputX)\n",
    "buf_ml2_in  , buf_ml2_in_phya  , buf_ml2_in_sz   = allocDataUint(allocShape= ML2IN_SHAPE, allocType= np.float32)\n",
    "buf_ml3_in  , buf_ml3_in_phya  , buf_ml3_in_sz   = allocDataUint(allocShape= ML3IN_SHAPE  , allocType= np.float32)\n",
    "buf_out     , buf_out_phy      , buf_out_sz      = allocDataUint(allocShape= DES_SHAPE  , allocType= np.float32)"
   ]
  },
  {
   "cell_type": "code",
   "execution_count": 9,
   "id": "0e61734d",
   "metadata": {},
   "outputs": [
    {
     "name": "stdout",
     "output_type": "stream",
     "text": [
      "----------> set sending channel\n",
      "----------> set receiving channel\n",
      "----------> wait for sending channel\n",
      "----------> wait for receiving channel\n",
      "----------> dma finish\n",
      "----------> set sending channel\n",
      "----------> set receiving channel\n",
      "----------> wait for sending channel\n",
      "----------> wait for receiving channel\n",
      "----------> dma finish\n",
      "----------> set sending channel\n",
      "----------> set receiving channel\n",
      "----------> wait for sending channel\n",
      "----------> wait for receiving channel\n",
      "----------> dma finish\n"
     ]
    }
   ],
   "source": [
    "changeDfx(PRJ_HW_DIR + PAR_BS_NAME_ML1)\n",
    "sendData(buf_input , buf_ml2_in)\n",
    "changeDfx(PRJ_HW_DIR + PAR_BS_NAME_ML2)\n",
    "sendData(buf_ml2_in, buf_ml3_in)\n",
    "changeDfx(PRJ_HW_DIR + PAR_BS_NAME_ML3)\n",
    "sendData(buf_ml3_in, buf_out   )"
   ]
  },
  {
   "cell_type": "code",
   "execution_count": 10,
   "id": "75aa67c3",
   "metadata": {},
   "outputs": [],
   "source": [
    "np_parRes = np.array(buf_out, dtype=np.float32)"
   ]
  },
  {
   "cell_type": "code",
   "execution_count": null,
   "id": "0191d034",
   "metadata": {},
   "outputs": [],
   "source": []
  },
  {
   "cell_type": "markdown",
   "id": "8af65b4c",
   "metadata": {},
   "source": [
    "## normal flow"
   ]
  },
  {
   "cell_type": "code",
   "execution_count": null,
   "id": "301cc519",
   "metadata": {},
   "outputs": [],
   "source": [
    "buf_mlx_in , buf_mlx_in_phya , buf_mlx_in_sz  = allocDataUint(allocShape= INPUT_SHAPE, allocType= np.float32, inputX = inputX)\n",
    "buf_mlx_out, buf_mlx_out_phya, buf_mlx_out_sz = allocDataUint(allocShape= DES_SHAPE  , allocType= np.float32)\n"
   ]
  },
  {
   "cell_type": "code",
   "execution_count": null,
   "id": "16ba6111",
   "metadata": {},
   "outputs": [],
   "source": [
    "changeDfx(PRJ_HW_DIR + PAR_BS_NAME_ALL)\n",
    "sendData(buf_mlx_in, buf_mlx_out)"
   ]
  },
  {
   "cell_type": "code",
   "execution_count": null,
   "id": "22949ff0",
   "metadata": {},
   "outputs": [],
   "source": [
    "np_fullRes = np.array(buf_mlx_out, dtype=np.float32)"
   ]
  }
 ],
 "metadata": {
  "kernelspec": {
   "display_name": "Python 3 (ipykernel)",
   "language": "python",
   "name": "python3"
  },
  "language_info": {
   "codemirror_mode": {
    "name": "ipython",
    "version": 3
   },
   "file_extension": ".py",
   "mimetype": "text/x-python",
   "name": "python",
   "nbconvert_exporter": "python",
   "pygments_lexer": "ipython3",
   "version": "3.10.4"
  }
 },
 "nbformat": 4,
 "nbformat_minor": 5
}

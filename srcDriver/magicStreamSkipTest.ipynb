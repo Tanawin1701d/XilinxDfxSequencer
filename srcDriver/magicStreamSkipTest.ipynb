{
 "cells": [
  {
   "cell_type": "code",
   "execution_count": null,
   "id": "380735a7",
   "metadata": {},
   "outputs": [],
   "source": [
    "# import the library\n",
    "from pynq import Overlay     # import the overlay\n",
    "from pynq import allocate    # import for CMA (contingeous memory allocation)\n",
    "from pynq import DefaultIP   # import the ip connector library for extension\n",
    "import numpy as np\n",
    "import os\n",
    "import subprocess\n",
    "import re\n",
    "import dfx4ml.magicSeq as magicSeq  # import the magic sequence library\n",
    "import dfx4ml.dfxCtrl as dfxCtrl  # import the dfx control library\n",
    "import dfx4ml.cap     as cap\n",
    "import dfx4ml.memAlloc as dataAlloc  # import the memory allocation library\n",
    "\n",
    "PRJ_DIR    = '/home/xilinx/jupyter_notebooks/tanawin/dfx4ml_magicSkipper/'\n",
    "PRJ_HW_DIR = '/home/xilinx/jupyter_notebooks/tanawin/dfx4ml_magicSkipper/hw/'\n",
    "\n",
    "DFX_CONFIG_FILE = 'dfxCtrlMeta.txt'\n",
    "\n",
    "FULL_BS_NAME    = 'system.bin'\n",
    "PAR_BS_NAME_0   = 'skipper1.bin' ###### dma to magic stream 1\n",
    "PAR_BS_NAME_1   = 'skipper2.bin' ###### magic stream 1 to magic stream 2\n",
    "\n",
    "\n",
    "AMT_QUERY       = 1\n",
    "INPUT_SHAPE     = (4,4,1)  # 4*4* float32 = 64 bytes\n",
    "# intermediate layer = (4*4*8* float32 = 512 bytes)\n",
    "# intermediate layer = (4*4*8* float32 = 512 bytes)\n",
    "OUTPUT_SHAPE    = (4,4,1)  # 4*4* float32 = 64 bytes\n",
    "AMT_SLOT = 3"
   ]
  },
  {
   "cell_type": "code",
   "execution_count": null,
   "id": "f4392e0e",
   "metadata": {},
   "outputs": [],
   "source": [
    "cap.changePLconfigMode(\"pcap\", True)"
   ]
  },
  {
   "cell_type": "code",
   "execution_count": null,
   "id": "1bab3272",
   "metadata": {},
   "outputs": [],
   "source": [
    "#### load the overlay\n",
    "overlay  = Overlay(PRJ_HW_DIR + FULL_BS_NAME)"
   ]
  },
  {
   "cell_type": "code",
   "execution_count": null,
   "id": "8a68accb",
   "metadata": {},
   "outputs": [],
   "source": [
    "#### get the device\n",
    "dmaIp      = overlay.dataMovement.axi_dma_0\n",
    "dfxCtrlIp  = overlay.PRcontroller.dfx_controller_0\n",
    "magicSeqIp = overlay.magicSeq.MagicSeqTopIntr_0"
   ]
  },
  {
   "cell_type": "code",
   "execution_count": null,
   "id": "24b2d3ba",
   "metadata": {},
   "outputs": [],
   "source": [
    "#### configure the dfx controller ip to match the address space\n",
    "dfxCtrlIp.config(PRJ_HW_DIR + DFX_CONFIG_FILE)\n",
    "print(\"regIdxSize = \", dfxCtrlIp.BLS_REGID)"
   ]
  },
  {
   "cell_type": "code",
   "execution_count": null,
   "id": "694f9efb",
   "metadata": {},
   "outputs": [],
   "source": [
    "### change reconfigure mode\n",
    "cap.changePLconfigMode(\"icap\", True)"
   ]
  },
  {
   "cell_type": "code",
   "execution_count": null,
   "id": "06231a4c",
   "metadata": {},
   "outputs": [],
   "source": [
    "dfxCtrlIp.printStatus()"
   ]
  },
  {
   "cell_type": "code",
   "execution_count": null,
   "id": "227359d1",
   "metadata": {},
   "outputs": [],
   "source": [
    "#### shutdown all system\n",
    "\n",
    "magicSeqIp.shutdownEngine()\n",
    "dfxCtrlIp .shutdownEngine()"
   ]
  },
  {
   "cell_type": "code",
   "execution_count": null,
   "id": "10be8eac",
   "metadata": {},
   "outputs": [],
   "source": [
    "# get physical address of dma and dfx controller\n",
    "dmaPhyAddr     =  overlay.ip_dict['axi_dma_0']['phys_addr']\n",
    "dfxCtrlPhyAddr =  overlay.ip_dict['dfx_controller_0']['phys_addr']\n",
    "\n",
    "print(\"dma physical address: \", hex(dmaPhyAddr))\n",
    "print(\"dfx  Ctrl physical address: \", hex(dfxCtrlPhyAddr))"
   ]
  },
  {
   "cell_type": "code",
   "execution_count": null,
   "id": "7d0aaa13",
   "metadata": {},
   "outputs": [],
   "source": [
    "##### initialize magic seq\n",
    "print(\"------ before init magic seq------\")\n",
    "print(magicSeqIp.printDebug())\n",
    "\n",
    "print(\"------ init magic sequence METADATA bank 0 -------------------------\")\n",
    "magicSeqIp.setEndCnt(2) ### use the last index\n",
    "magicSeqIp.setDmaAddr(dmaPhyAddr)\n",
    "magicSeqIp.setDfxAddr(dfxCtrlPhyAddr)\n",
    "magicSeqIp.setIntrEna(0)\n",
    "magicSeqIp.setIntr(1)  # woc  command 1 to set the interrupt to 0\n",
    "magicSeqIp.setRoundTrip(0)  # set round trip to 0, no need to wait for the dma to finish\n",
    "inputX = np.arange(INPUT_SHAPE[0], dtype=np.float32)\n",
    "print(\"-------------init all data buffer -------------\")\n",
    "buf_input   , buf_input_phya   , buf_input_sz    = dataAlloc.allocDataUint(allocShape= INPUT_SHAPE, allocType= np.float32, inputX = inputX)\n",
    "buf_out     , buf_out_phy      , buf_out_sz      = dataAlloc.allocDataUint(allocShape= OUTPUT_SHAPE  , allocType= np.float32)\n",
    "\n",
    "print(\"------------- init all bank 1 ------------------\")\n",
    "######                      srcPhyAddr    ,        srcSz,  dstPhyAddr,      dstSz,st,pr,loadMask, storeMask, intrMask \n",
    "magicSeqIp.setWholeSlot(0, [buf_input_phya, buf_input_sz,           0,          0, 0, 0,  0b0001,    0b0110, 0])\n",
    "magicSeqIp.setWholeSlot(1, [             0,            0, buf_out_phy, buf_out_sz, 0, 0,  0b0110,    0b0001, 0])\n",
    "\n",
    "print(\"------------- after init magic seq------\")\n",
    "print(magicSeqIp.printDebug())"
   ]
  },
  {
   "cell_type": "code",
   "execution_count": null,
   "id": "32735805",
   "metadata": {},
   "outputs": [],
   "source": [
    "##### initialize dfx controller\n",
    "print(\"------ allocate bit steram CMA for each trigger ------\")\n",
    "\n",
    "######## set trigger 0\n",
    "d0_ip_buf, d0_addr, d0_size = \\\n",
    "    dfxCtrlIp.allocateBitStreamCMA(PRJ_HW_DIR + PAR_BS_NAME_0)\n",
    "######## set trigger 1\n",
    "d1_ip_buf, d1_addr, d1_size = \\\n",
    "    dfxCtrlIp.allocateBitStreamCMA(PRJ_HW_DIR + PAR_BS_NAME_1)"
   ]
  },
  {
   "cell_type": "code",
   "execution_count": null,
   "id": "c75060bc",
   "metadata": {},
   "outputs": [],
   "source": [
    "##### initialize dfx controller2\n",
    "dfxCtrlIp.setSimpleMetaData(0, d0_addr, d0_size)\n",
    "dfxCtrlIp.setSimpleMetaData(1, d1_addr, d1_size)"
   ]
  },
  {
   "cell_type": "code",
   "execution_count": null,
   "id": "2dcef2f8",
   "metadata": {},
   "outputs": [],
   "source": [
    "##### check dfx controller3\n",
    "dfxCtrlIp.printStatus()\n",
    "dfxCtrlIp.printSimpleMetaData(0)\n",
    "dfxCtrlIp.printSimpleMetaData(1)"
   ]
  },
  {
   "cell_type": "code",
   "execution_count": null,
   "id": "d08a0ddb",
   "metadata": {},
   "outputs": [],
   "source": [
    "dfxCtrlIp.trigger(0)\n",
    "dfxCtrlIp.restartNoStatus()"
   ]
  },
  {
   "cell_type": "code",
   "execution_count": null,
   "id": "d4b52583",
   "metadata": {},
   "outputs": [],
   "source": [
    "dfxCtrlIp.printStatus()"
   ]
  },
  {
   "cell_type": "code",
   "execution_count": null,
   "id": "2978de6f",
   "metadata": {},
   "outputs": [],
   "source": [
    "##### start dfx controller3\n",
    "magicSeqIp.clearIntr()\n",
    "magicSeqIp.startEngine()"
   ]
  },
  {
   "cell_type": "code",
   "execution_count": null,
   "id": "49455325",
   "metadata": {},
   "outputs": [],
   "source": [
    "print(magicSeqIp.printDebug())"
   ]
  },
  {
   "cell_type": "code",
   "execution_count": null,
   "id": "f9072bd1",
   "metadata": {},
   "outputs": [],
   "source": [
    "np_parRes = np.array(buf_out, dtype=np.float32)\n",
    "print(np_parRes)"
   ]
  }
 ],
 "metadata": {
  "language_info": {
   "name": "python"
  }
 },
 "nbformat": 4,
 "nbformat_minor": 5
}

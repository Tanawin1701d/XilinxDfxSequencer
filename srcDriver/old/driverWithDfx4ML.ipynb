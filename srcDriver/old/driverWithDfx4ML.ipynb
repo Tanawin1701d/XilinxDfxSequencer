{
 "cells": [
  {
   "cell_type": "markdown",
   "id": "0f601f86",
   "metadata": {},
   "source": [
    "# DFX + DMA + self trigger"
   ]
  },
  {
   "cell_type": "markdown",
   "id": "df89b6d9",
   "metadata": {},
   "source": [
    "## import section"
   ]
  },
  {
   "cell_type": "code",
   "execution_count": 1,
   "id": "4f99735c",
   "metadata": {},
   "outputs": [],
   "source": [
    "# import the library\n",
    "from pynq import Overlay     # import the overlay\n",
    "from pynq import allocate    # import for CMA (contingeous memory allocation)\n",
    "from pynq import DefaultIP   # import the ip connector library for extension\n",
    "import numpy as np\n",
    "import os\n",
    "import subprocess\n",
    "import re\n",
    "\n",
    "PRJ_DIR    = '/home/xilinx/jupyter_notebooks/dfx4ml/'\n",
    "PRJ_HW_DIR = '/home/xilinx/jupyter_notebooks/dfx4ml/hw/'\n",
    "\n",
    "DFX_CONFIG_FILE = 'dfxCtrlMeta.txt'\n",
    "\n",
    "FULL_BS_NAME    = 'system.bin'\n",
    "PAR_BS_NAME_0   = 'add.bin'\n",
    "PAR_BS_NAME_1   = 'sub.bin'\n",
    "PAR_BS_NAME_ML1 = 'ml1.bin'\n",
    "PAR_BS_NAME_ML2 = 'ml2.bin'\n",
    "PAR_BS_NAME_ML3 = 'ml3.bin'\n",
    "PAR_BS_NAME_FULL= 'mlx.bin'\n",
    "\n",
    "AMT_QUERY       = 5\n",
    "INPUT_SHAPE     = (AMT_QUERY, 6, 8 )\n",
    "ML2IN_SHAPE     = (AMT_QUERY, 6, 16)\n",
    "ML3IN_SHAPE     = (AMT_QUERY, 6, 8 )\n",
    "DES_SHAPE       = (AMT_QUERY, 5)"
   ]
  },
  {
   "cell_type": "markdown",
   "id": "2d8447f8",
   "metadata": {},
   "source": [
    "## ICAP config"
   ]
  },
  {
   "cell_type": "code",
   "execution_count": 2,
   "id": "b12dd121",
   "metadata": {},
   "outputs": [
    {
     "name": "stdout",
     "output_type": "stream",
     "text": [
      "CHANGE CMD STDOUT: 0xFFCA3008 0xFFFFFFFF 0x1\n",
      "\n",
      "CHANGE CMD ERROR : \n",
      "--------------------------------\n",
      "TRIGGER CMD STDOUT: 0xFFCA3008\n",
      "\n",
      "TRIGGER CMD ERROR : \n",
      "--------------------------------\n",
      "READ CMD STDOUT: 0x1\n",
      "\n",
      "READ CMD ERROR : \n",
      "--------------------------------\n"
     ]
    }
   ],
   "source": [
    "def subProcessPrint(prefix, subProcessRes):\n",
    "    \n",
    "    print(f\"{prefix} STDOUT:\", subProcessRes.stdout)\n",
    "    print(f\"{prefix} ERROR :\", subProcessRes.stderr)\n",
    "    print(\"--------------------------------\")\n",
    "    \n",
    "\n",
    "def changePLconfigMode(mode, isRoot): ### mode should be \"pcap\", \"icap\"\n",
    "    indicator = \"1\"\n",
    "    \n",
    "    if mode == \"icap\":\n",
    "        indicator = \"0\"\n",
    "    elif mode == \"pcap\":\n",
    "        pass\n",
    "    else:\n",
    "        raise Exception(\"change PL config Mode has mode error\")\n",
    "    \n",
    "    \n",
    "    changeCmd_inputVal = f\"0xFFCA3008 0xFFFFFFFF 0x{indicator}\"\n",
    "    triggerCmd_inputVal = \"0xFFCA3008\"\n",
    "    config_file = \"/sys/firmware/zynqmp/config_reg\"\n",
    "    password = \"xilinx\"  # default sudo password for PYNQ-ZU\n",
    "\n",
    "    # Compose the command string\n",
    "    cmd_change = f\"sudo -S tee {config_file}\"\n",
    "    cmd_trigger = f\"sudo -S tee {config_file}\"\n",
    "    cmd_read    = f\"cat {config_file}\"\n",
    "    \n",
    "    passwordCmd = (password + '\\n') if not isRoot else \"\"\n",
    "\n",
    "    # Run the change command\n",
    "    result = subprocess.run(\n",
    "        cmd_change,\n",
    "        input=passwordCmd + changeCmd_inputVal + '\\n',\n",
    "        shell=True,\n",
    "        capture_output=True,\n",
    "        text=True\n",
    "    )\n",
    "    subProcessPrint(\"CHANGE CMD\", result)\n",
    "\n",
    "    # Run the trigger command\n",
    "    result = subprocess.run(\n",
    "        cmd_trigger,\n",
    "        input=passwordCmd + triggerCmd_inputVal + '\\n',\n",
    "        shell=True,\n",
    "        capture_output=True,\n",
    "        text=True\n",
    "    )\n",
    "\n",
    "    subProcessPrint(\"TRIGGER CMD\", result)\n",
    "\n",
    "    \n",
    "    result = subprocess.run(\n",
    "        cmd_read,\n",
    "        shell=True,\n",
    "        capture_output=True,\n",
    "        text=True\n",
    "    )\n",
    "\n",
    "    subProcessPrint(\"READ CMD\", result)\n",
    "\n",
    "\n",
    "changePLconfigMode(\"pcap\", True)  # change the PL config mode to pcap"
   ]
  },
  {
   "cell_type": "markdown",
   "id": "73769b68",
   "metadata": {},
   "source": [
    "## SAFE IO"
   ]
  },
  {
   "cell_type": "code",
   "execution_count": 3,
   "id": "265a0aa4",
   "metadata": {},
   "outputs": [],
   "source": [
    "class SafeIoIp (DefaultIP):\n",
    "\n",
    "    def __init__(self, description, icheckOnRead = True, icheckOnWrite = True):\n",
    "        super().__init__(description=description)\n",
    "        self.checkOnRead  = icheckOnRead\n",
    "        self.checkOnWrite = icheckOnWrite\n",
    "\n",
    "    def confirmation(self, shouldCheck):\n",
    "        if shouldCheck:\n",
    "            while True:\n",
    "                answer = input(\"Please enter yes or no: \").strip().lower()\n",
    "                if answer in ['yes', 'y']:\n",
    "                    print(\"You answered YES\")\n",
    "                    break\n",
    "                elif answer in ['no', 'n']:\n",
    "                    raise Exception(\"user dicides to reject operation\")\n",
    "                else:\n",
    "                    print(\"Invalid input. Try again.\")\n",
    "\n",
    "    def setCheckOnRead(self, iCheckOnRead):\n",
    "        self.checkOnRead = iCheckOnRead\n",
    "\n",
    "    def setCheckOnWrite(self, iCheckOnWrite):\n",
    "        self.checkOnWrite = iCheckOnWrite\n",
    "\n",
    "    def safeRead(self, addr):\n",
    "        self.confirmation(self.checkOnRead)\n",
    "        return self.read(addr)\n",
    "\n",
    "    def safeWrite(self, addr, data):\n",
    "        self.confirmation(self.checkOnWrite)\n",
    "        self.write(addr, data)"
   ]
  },
  {
   "cell_type": "markdown",
   "id": "6ca00201",
   "metadata": {},
   "source": [
    "## Magic Sequence Driver"
   ]
  },
  {
   "cell_type": "code",
   "execution_count": 4,
   "id": "f9c78a55",
   "metadata": {},
   "outputs": [],
   "source": [
    "class MagicSeqdDriver(SafeIoIp):\n",
    "\n",
    "    def __init__(self, description):\n",
    "        super().__init__(description=description)\n",
    "\n",
    "        ### Bit Layout start bit\n",
    "        self.BL_COL_ST  =  2 \n",
    "        self.BL_ROW_ST  =  6 \n",
    "        self.BL_BNK_ST  = 14 \n",
    "        ### Bit Layout size\n",
    "        self.BIT_COL_SZ = 4\n",
    "        self.BIT_ROW_SZ = 8\n",
    "        self.BIT_BNK_SZ = 2\n",
    "\n",
    "        self.REG_CTRL     = (0,0,0)\n",
    "        self.REG_ST       = (0,1,0)\n",
    "        self.REG_MAINCNT  = (0,2,0)\n",
    "        self.REG_ENDCNT   = (0,3,0)\n",
    "        self.REG_DMA_ADDR = (0,4,0)\n",
    "        self.REG_DFX_ADDR = (0,5,0)\n",
    "\n",
    "        #### the row must be change to match the slot\n",
    "        self.SLOT_SRC_ADDR = (1,0,0)\n",
    "        self.SLOT_SRC_SIZE = (1,0,1)\n",
    "        self.SLOT_DES_ADDR = (1,0,2)\n",
    "        self.SLOT_DES_SIZE = (1,0,3)\n",
    "        self.SLOT_STATUS   = (1,0,4)\n",
    "        self.SLOT_PROF     = (1,0,5)\n",
    "\n",
    "\n",
    "        self.LIM_AMT_SLOT = 4 ### limit amount slot\n",
    "        \n",
    "\n",
    "    bindto = ['user.org:user:MagicSeqTop:1.0']\n",
    "\n",
    "    def genAddr(self, bankId, rowIdx, colIdx):\n",
    "        return (bankId << self.BL_BNK_ST) | (rowIdx << self.BL_ROW_ST) | (colIdx << self.BL_COL_ST)\n",
    "    \n",
    "    def genAddrForSlot(self, slotT, slotIdx):\n",
    "        return self.genAddr(slotT[0], slotIdx, slotT[2])\n",
    "\n",
    "    ###############################################\n",
    "    ####### getter ################################\n",
    "    ###############################################\n",
    "\n",
    "    def getStatus(self):\n",
    "        return self.safeRead(self.genAddr(*self.REG_ST))\n",
    "    def getMainCnt(self):\n",
    "        return self.safeRead(self.genAddr(*self.REG_MAINCNT))\n",
    "    def getEndCnt(self):\n",
    "        return self.safeRead(self.genAddr(*self.REG_ENDCNT))\n",
    "    def getDmaAddr(self):\n",
    "        return self.safeRead(self.genAddr(*self.REG_DMA_ADDR))\n",
    "    def getDfxAddr(self):\n",
    "        return self.safeRead(self.genAddr(*self.REG_DFX_ADDR))\n",
    "    \n",
    "    def getSlot(self, slotIdx):\n",
    "\n",
    "        addr_srcAddr  = self.genAddrForSlot(self.SLOT_SRC_ADDR, slotIdx)             \n",
    "        addr_srcSz    = self.genAddrForSlot(self.SLOT_SRC_SIZE, slotIdx)           \n",
    "        addr_desAddr  = self.genAddrForSlot(self.SLOT_DES_ADDR, slotIdx)             \n",
    "        addr_desSz    = self.genAddrForSlot(self.SLOT_DES_SIZE, slotIdx)           \n",
    "        addr_status   = self.genAddrForSlot(self.SLOT_STATUS  , slotIdx)            \n",
    "        addr_prof     = self.genAddrForSlot(self.SLOT_PROF    , slotIdx)\n",
    "\n",
    "        data_srcAddr  = self.safeRead(addr_srcAddr)\n",
    "        data_srcSz    = self.safeRead(addr_srcSz)\n",
    "        data_desAddr  = self.safeRead(addr_desAddr)\n",
    "        data_desSz    = self.safeRead(addr_desSz)\n",
    "        data_status   = self.safeRead(addr_status)\n",
    "        data_prof     = self.safeRead(addr_prof)\n",
    "\n",
    "        return data_srcAddr, data_srcSz, data_desAddr, data_desSz, data_status, data_prof\n",
    "        \n",
    "\n",
    "    ###############################################\n",
    "    ####### setter ################################\n",
    "    ###############################################\n",
    "\n",
    "    def setControl(self, value): #### status registesr will be neglect\n",
    "        return self.safeWrite(self.genAddr(*self.REG_CTRL), value)\n",
    "    # def setMainCnt(self, value):\n",
    "    #     return self.safeWrite(self.genAddr(*self.REG_MAINCNT), value)\n",
    "    def setEndCnt(self, value):\n",
    "        return self.safeWrite(self.genAddr(*self.REG_ENDCNT), value)\n",
    "    def setDmaAddr(self, value):\n",
    "        return self.safeWrite(self.genAddr(*self.REG_DMA_ADDR), value)\n",
    "    def setDfxAddr(self, value):\n",
    "        return self.safeWrite(self.genAddr(*self.REG_DFX_ADDR), value)\n",
    "    \n",
    "    def setSlot(self, slotT, slotIdx, value):\n",
    "        addr  = self.genAddrForSlot(slotT, slotIdx) \n",
    "        self.safeWrite(addr, value)\n",
    "\n",
    "    def setWholeSlot(self, slotIdx, dataList):\n",
    "\n",
    "        addr_srcAddr  = self.genAddrForSlot(self.SLOT_SRC_ADDR, slotIdx)             \n",
    "        addr_srcSz    = self.genAddrForSlot(self.SLOT_SRC_SIZE, slotIdx)           \n",
    "        addr_desAddr  = self.genAddrForSlot(self.SLOT_DES_ADDR, slotIdx)             \n",
    "        addr_desSz    = self.genAddrForSlot(self.SLOT_DES_SIZE, slotIdx)           \n",
    "        addr_status   = self.genAddrForSlot(self.SLOT_STATUS  , slotIdx)            \n",
    "        addr_prof     = self.genAddrForSlot(self.SLOT_PROF    , slotIdx)\n",
    "\n",
    "        self.safeWrite(addr_srcAddr, dataList[0])\n",
    "        self.safeWrite(addr_srcSz  , dataList[1])\n",
    "        self.safeWrite(addr_desAddr, dataList[2])\n",
    "        self.safeWrite(addr_desSz  , dataList[3])\n",
    "        self.safeWrite(addr_status , dataList[4])\n",
    "        self.safeWrite(addr_prof   , dataList[5])\n",
    "\n",
    "    ###############################################\n",
    "    ####### command################################\n",
    "    ###############################################\n",
    "\n",
    "    def clearEngine(self):\n",
    "        print(\"[cmd] clear the engine\")\n",
    "        self.setControl(0)\n",
    "        print(\"[cmd] clear the engine successfully\")\n",
    "\n",
    "\n",
    "    def shutdownEngine(self):\n",
    "        print(\"[cmd] shutdown the engine\")\n",
    "        self.setControl(1)\n",
    "        print(\"[cmd] shutdown successfully\")\n",
    "\n",
    "    def startEngine(self):\n",
    "        print(\"[cmd] start the engine\")\n",
    "        self.setControl(2)\n",
    "        print(\"[cmd] start the successfully\")\n",
    "\n",
    "    ###############################################\n",
    "    ####### debugger ##############################\n",
    "    ###############################################\n",
    "\n",
    "    def status2Str(self, statusIdx):\n",
    "        mapper = [\"SHUTDOWN\",\"REPROG\",\"W4SLAVERESET\",\"W4SLAVEOP\",\"INITIALIZING\",\"TRIGGERING\",\"WAIT4FIN\",\"PAUSEONERROR\"]\n",
    "\n",
    "        if statusIdx not in range(0, len(mapper)):\n",
    "            return \"STATUS ERROR\"\n",
    "        return mapper[statusIdx]\n",
    "        \n",
    "    def printMainStatus(self):\n",
    "\n",
    "\n",
    "        print(\"----- MAIN STATUS ------------------\")\n",
    "        status  = self.getStatus()\n",
    "        print(\"--------> STATUS = \", self.status2Str(status))\n",
    "        mainCnt = self.getMainCnt()\n",
    "        print(\"--------> MAINCNT = \", mainCnt)\n",
    "        endCnt  = self.getEndCnt()\n",
    "        print(\"--------> ENDCNT  = \", endCnt)\n",
    "        dmaAddr = self.getDmaAddr()\n",
    "        print(\"--------> DMAADDR  = \", hex(dmaAddr))\n",
    "        dfxAddr = self.getDfxAddr()\n",
    "        print(\"--------> DFXADDR  = \", hex(dfxAddr))\n",
    "\n",
    "\n",
    "    def printSlotData(self):\n",
    "\n",
    "        print(\"----- SLOT DATA ------------------\")\n",
    "\n",
    "        if self.getStatus() != 0:\n",
    "            print(\"---------- cannot print slot data due to the system is not in shutdown state\")\n",
    "            return\n",
    "\n",
    "        for slotIdx in range (self.LIM_AMT_SLOT):\n",
    "            s_addr, s_size, d_addr, d_size, status, prof = self.getSlot(slotIdx)\n",
    "\n",
    "            print(f\"------> slot {slotIdx} :\")\n",
    "            print(f\"        srcAddr   : {hex(s_addr)},  srcSize   : {hex(s_size)}\")\n",
    "            print(f\"        desAddr   : {hex(d_addr)},  desSize   : {hex(d_size)}\")\n",
    "            print(f\"        status    : {hex(status)}\")\n",
    "            print(f\"        profileCnt: {hex(prof)}\")\n",
    "\n",
    "    def printDebug(self):\n",
    "        self.printMainStatus()\n",
    "        self.printSlotData()\n",
    "        print(\"-------------------------------\")"
   ]
  },
  {
   "cell_type": "markdown",
   "id": "c79bd820",
   "metadata": {},
   "source": [
    "## DFX controller Driver"
   ]
  },
  {
   "cell_type": "code",
   "execution_count": 5,
   "id": "48db88d9",
   "metadata": {},
   "outputs": [],
   "source": [
    "class MyDfxCtrl(SafeIoIp):\n",
    "    def __init__(self, description):\n",
    "        self.isMetaConfigured = False\n",
    "        super().__init__(description=description)\n",
    "        self.storage = None\n",
    "        # BLS bit layout size\n",
    "        self.BLS_DATA   = 2 # register contain 4 byte (2 bit addressing)\n",
    "        self.BLS_REGID  = 4 # register Id\n",
    "        self.BLS_BANKID = 2 # bank id\n",
    "        #### TODO this may change \n",
    "        # GENERAL BANK\n",
    "        self.BANK_GENREG      = 0     \n",
    "        self.GENREG_STATUS    = 0\n",
    "        self.GENREG_CTRL      = 0\n",
    "        self.GENREG_SWTRIGGER = 1\n",
    "        # TRIGGER RM MAPPING\n",
    "        self.BANK_RMM         = 1\n",
    "        self.BANK_RMM_LIMIT   = 2 #### it is not used now!\n",
    "        # RM INFO\n",
    "        self.BANK_RMINFO      = 2\n",
    "        self.BANK_RMINFO_LIMIT= 2 #### it is not used now!\n",
    "        # BITSTREAM INFO\n",
    "        self.BANK_BSINFO      = 3\n",
    "        self.BANK_BSINFO_LIMIT= 2 #### it is not used now!\n",
    "\n",
    "        ##### retrive the actual metadata\n",
    "\n",
    "        \n",
    "        #print(description) #\n",
    "        \n",
    "    bindto = ['xilinx.com:ip:dfx_controller:1.0']\n",
    "\n",
    "    def config(self, metaPath):\n",
    "\n",
    "        regBankIdx, regColIdx = self.retrieveConfig(metaPath)\n",
    "        self.BLS_REGID  = regColIdx [1] - regColIdx [0] + 1\n",
    "        self.BLS_BANKID = regBankIdx[1] - regBankIdx[0] + 1\n",
    "        self.isMetaConfigured = True\n",
    "        \n",
    "\n",
    "    #######################################\n",
    "    ###### config check ###################\n",
    "    #######################################\n",
    "    def retrieveConfig(self, path):\n",
    "        regBankIdx = None\n",
    "        regColIdx  = None\n",
    "\n",
    "        with open(path, 'r') as file:\n",
    "            for line in file:\n",
    "                if \"Selects the Register Bank\" in line:\n",
    "                    regBankIdx = self.extractBitRange(line)\n",
    "                    print(f\"regbank detect index {regBankIdx}\")\n",
    "                    \n",
    "                if \"Selects the Register within the bank\" in line:\n",
    "                    regColIdx = self.extractBitRange(line)\n",
    "                    print(f\"regbank detect index {regColIdx}\")\n",
    "\n",
    "        return regBankIdx, regColIdx\n",
    "\n",
    "\n",
    "\n",
    "    def extractBitRange(self, line):\n",
    "\n",
    "        match = re.search(r'\\[\\s*(\\d+)\\s*:\\s*(\\d+)\\s*\\]', line)\n",
    "\n",
    "        if match:\n",
    "            high = int(match.group(1))\n",
    "            low  = int(match.group(2))\n",
    "            return low, high\n",
    "        else:\n",
    "            return None\n",
    "\n",
    "\n",
    "    #######################################\n",
    "    ###### address generator ##############\n",
    "    #######################################\n",
    "    def getAddress(self, bankId, regId): ### todo make it compatible for more than 1 slot\n",
    "        if not self.isMetaConfigured:\n",
    "            raise Exception(\"this module has not initialized yet, any attempt to interact with the IP will be abort\")\n",
    "        return (bankId << (self.BLS_DATA + self.BLS_REGID)) + (regId << (self.BLS_DATA))\n",
    "    #######################################\n",
    "    ###### general command ################\n",
    "    #######################################\n",
    "    def shutdownEngine(self):\n",
    "        print(\"shutdown dfx Controller\")\n",
    "        self.setCtrl(0)\n",
    "    \n",
    "    def restartNoStatus(self):\n",
    "        print(\"restart the dfx Controller with no status\")\n",
    "        self.setCtrl(1)\n",
    "        \n",
    "    def restartWithStatus(self):\n",
    "        print(\"restart the dfx Controller with status\")\n",
    "        \n",
    "    def trigger(self, triggerId):\n",
    "        print(\"trig the rmId \", triggerId)\n",
    "        self.setCtrlTrigger(triggerId)\n",
    "\n",
    "    #######################################\n",
    "    ###### getter setter command ##########\n",
    "    #######################################\n",
    "        \n",
    "    ###### general register bank0\n",
    "    #\n",
    "    # |statusRegister, controlRegister|\n",
    "    # | trigger register              |\n",
    "    #\n",
    "    def getStatus(self):\n",
    "        regAddr = self.getAddress(self.BANK_GENREG, self.GENREG_STATUS)\n",
    "        print(\"[get status register] @\", hex(regAddr))\n",
    "        return self.safeRead(regAddr)\n",
    "    \n",
    "    def getCtrl(self):\n",
    "        regAddr = self.getAddress(self.BANK_GENREG, self.GENREG_CTRL)\n",
    "        print(\"[get ctrl register] @\", hex(regAddr))\n",
    "        return self.safeRead(regAddr)\n",
    "    \n",
    "    def setCtrl(self, command):\n",
    "        regAddr = self.getAddress(self.BANK_GENREG, self.GENREG_CTRL)\n",
    "        print(\"[set ctrl register] @\", hex(regAddr), \" with command \", hex(command))\n",
    "        self.safeWrite(regAddr, command)\n",
    "    \n",
    "    def getCtrlTrigger(self):\n",
    "        regAddr = self.getAddress(self.BANK_GENREG, self.GENREG_SWTRIGGER)\n",
    "        print(\"[get Ctrl Trigger] @\", hex(regAddr))\n",
    "        return self.safeRead(regAddr)\n",
    "    \n",
    "    def setCtrlTrigger(self, triggerId):\n",
    "        regAddr = self.getAddress(self.BANK_GENREG, self.GENREG_SWTRIGGER)\n",
    "        print(\"[set Ctrl Trigger] @\", hex(regAddr))\n",
    "        self.safeWrite(regAddr, triggerId)\n",
    "        \n",
    "    ####### Reconfig Module Map bank1\n",
    "    # | RM0 |\n",
    "    # | RM1 |\n",
    "    # | RM2 |\n",
    "    # .\n",
    "    def getRMM(self, triggerId):\n",
    "        regAddr = self.getAddress(self.BANK_RMM, triggerId)\n",
    "        print(\"[get RM MAP] @\", hex(regAddr))\n",
    "        return self.safeRead(regAddr)\n",
    "    \n",
    "    def setRMM(self, triggerId, infoId):\n",
    "        regAddr = self.getAddress(self.BANK_RMM, triggerId)\n",
    "        print(\"[set RM MAP] @\", hex(regAddr), \" info \", hex(infoId))\n",
    "        self.safeWrite(regAddr, infoId)\n",
    "        \n",
    "    ####### Reconfig Module Map bank2\n",
    "    # | BS_ID0 | CT_ID0 |\n",
    "    # | BS_ID1 | CT_ID1 |\n",
    "    # | BS_ID2 | CT_ID2 |\n",
    "    # .\n",
    "    def getRMInfo(self, infoId):\n",
    "        bsIdxAddr = self.getAddress(self.BANK_RMINFO, infoId * 2)\n",
    "        ### *2 because each row has two element\n",
    "        ctrlAddr  = self.getAddress(self.BANK_RMINFO, (infoId * 2) + 1)\n",
    "        print(\"[get RM INFO] bsIdxAddr@\", hex(bsIdxAddr), \" ctrlAddr@\", hex(ctrlAddr))\n",
    "        return (self.safeRead(bsIdxAddr), self.safeRead(ctrlAddr))\n",
    "    \n",
    "    def setRMInfo(self, infoId, bsIdx, ctrlCmd):\n",
    "        ### *2 because each row has two element\n",
    "        bsIdxAddr = self.getAddress(self.BANK_RMINFO, infoId * 2)\n",
    "        ctrlAddr  = self.getAddress(self.BANK_RMINFO, (infoId * 2) + 1)\n",
    "        print(\"[get RM INFO] bsIdxAddr@\", hex(bsIdxAddr), \" ctrlAddr@\", hex(ctrlAddr))\n",
    "        self.safeWrite(bsIdxAddr, bsIdx)\n",
    "        self.safeWrite(ctrlAddr, ctrlCmd)\n",
    "    ####### BIN stream bank3\n",
    "    # | BIN_ADDR0 | SIZE0 |\n",
    "    # | BIN_ADDR1 | SIZE1 |\n",
    "    # | BIN_ADDR2 | SIZE2 |\n",
    "    # .\n",
    "    def getBSInfo(self, bsId):\n",
    "        ### *3 because each row has three element\n",
    "        streamIdentAddr  = self.getAddress(self.BANK_BSINFO, (bsId * 4)    )\n",
    "        streamAddr       = self.getAddress(self.BANK_BSINFO, (bsId * 4) + 1)\n",
    "        sizeAddr         = self.getAddress(self.BANK_BSINFO, (bsId * 4) + 2)\n",
    "        print(\"[get BS INFO] streamAddr@\", hex(streamAddr), \" sizeAddr@\", hex(sizeAddr))\n",
    "        return (self.safeRead(streamIdentAddr), self.safeRead(streamAddr), self.safeRead(sizeAddr))\n",
    "    \n",
    "    def setBSInfo(self, bsId, phyStreamAddr, streamSize):\n",
    "    \n",
    "        streamIdentAddr  = self.getAddress(self.BANK_BSINFO, (bsId * 4)    )\n",
    "        streamAddr       = self.getAddress(self.BANK_BSINFO, (bsId * 4) + 1)\n",
    "        sizeAddr         = self.getAddress(self.BANK_BSINFO, (bsId * 4) + 2)\n",
    "        print(\"[get BS INFO] streamAddr@\", hex(streamAddr), \" sizeAddr@\", hex(sizeAddr))\n",
    "        self.safeWrite(streamIdentAddr, 1)\n",
    "        self.safeWrite(streamAddr     , phyStreamAddr)\n",
    "        self.safeWrite(sizeAddr       , streamSize)\n",
    "        \n",
    "    ######## AUTO META DATA RECONFIGURE\n",
    "    def setSimpleMetaData(self, idx, streamPhyAddr, streamPhySize):\n",
    "        \n",
    "        print(\"setting RM Mapping to \", idx)\n",
    "        self.setRMM(idx, idx)\n",
    "        print(\"setting RM INFO to \", idx)\n",
    "        ctrlValue = 0B0_10_0_00\n",
    "        print(\"control value for active low reset is \", hex(ctrlValue))\n",
    "        self.setRMInfo(idx, idx, ctrlValue)\n",
    "        \n",
    "        print(\"setting BS INFO to \", idx, \" with streamAddress: \", streamPhyAddr, \" with size: \", streamPhySize)\n",
    "        self.setBSInfo(idx, streamPhyAddr, streamPhySize)\n",
    "    \n",
    "    ###########################################\n",
    "    ######## DEBUGGER #########################\n",
    "    ###########################################\n",
    "\n",
    "    def printStatus(self):\n",
    "        \n",
    "        status = self.getStatus()\n",
    "        \n",
    "        print(\">>status of the system vs0\")\n",
    "        print(\"-------> Is device shutdown: \", (status >> 7) & 0x1)\n",
    "        print(\"-------> current error code: \", hex((status >> 3) & 0xF))\n",
    "        print(\"-------> active RM_ID      : \", hex((status >> 8) & 0xFFFF))\n",
    "        print(\"-------> state      : \", hex(status & 0x7))\n",
    "        \n",
    "    def printSimpleMetaData(self, idx):\n",
    "        print(\"get metadata info for row\", idx)\n",
    "        print(\"RM MAPPER: \", self.getRMM   (idx))\n",
    "        print(\"RM INFO  : \", self.getRMInfo(idx))\n",
    "        print(\"BS INFO  : \", self.getBSInfo(idx))\n",
    "        \n",
    "        \n",
    "        \n",
    "    ###############################################\n",
    "    ####### ALLOCATE BIN STREAM ON MAIN MEMORY ####\n",
    "    ###############################################\n",
    "    \n",
    "    def allocateBitStreamCMA(self, path):\n",
    "              \n",
    "        print(\">>allocateBitStream\")\n",
    "        \n",
    "        print(\"opening file \", path)\n",
    "        with open(path, 'rb') as f:\n",
    "            data = f.read()\n",
    "        file_size = len(data)\n",
    "        print(\"copying the data\")\n",
    "        data_u32  = np.frombuffer(data, dtype='<u4')  # Big-endian uint32\n",
    "        buffer    = allocate(shape=(len(data_u32),), dtype='>u4')\n",
    "        buffer[:] = data_u32\n",
    "        print(\"copy complete\")\n",
    "        print(\"file size \", file_size)\n",
    "        print(\"---------------------------------\")\n",
    "        return buffer, buffer.physical_address, file_size"
   ]
  },
  {
   "cell_type": "markdown",
   "id": "79b106e6",
   "metadata": {},
   "source": [
    "## memory allocation"
   ]
  },
  {
   "cell_type": "code",
   "execution_count": 6,
   "id": "9c9d2bca",
   "metadata": {},
   "outputs": [],
   "source": [
    "def allocDataUint(allocShape = (16, ), allocType = np.float32, inputX = None):\n",
    "    buf0 = allocate(shape=allocShape, dtype=allocType)\n",
    "    #### copy the data\n",
    "    if inputX is not None:\n",
    "        print(\"start copy from input to allocate buffer\")\n",
    "        if (allocShape != inputX.shape) or (allocType != inputX.dtype):\n",
    "            raise Exception(\"the specified shape and inputX shape is mismatch\")\n",
    "        np.copyto(buf0, inputX)\n",
    "        print(\"copy finish\")\n",
    "\n",
    "    return buf0, buf0.physical_address, buf0.nbytes"
   ]
  },
  {
   "cell_type": "markdown",
   "id": "151e3434",
   "metadata": {},
   "source": [
    "## main procedure"
   ]
  },
  {
   "cell_type": "code",
   "execution_count": 7,
   "id": "f2c307a7",
   "metadata": {},
   "outputs": [],
   "source": [
    "AMT_SLOT = 3"
   ]
  },
  {
   "cell_type": "code",
   "execution_count": 8,
   "id": "ee17ddd5",
   "metadata": {},
   "outputs": [
    {
     "name": "stdout",
     "output_type": "stream",
     "text": [
      "CHANGE CMD STDOUT: 0xFFCA3008 0xFFFFFFFF 0x1\n",
      "\n",
      "CHANGE CMD ERROR : \n",
      "--------------------------------\n",
      "TRIGGER CMD STDOUT: 0xFFCA3008\n",
      "\n",
      "TRIGGER CMD ERROR : \n",
      "--------------------------------\n",
      "READ CMD STDOUT: 0x1\n",
      "\n",
      "READ CMD ERROR : \n",
      "--------------------------------\n"
     ]
    }
   ],
   "source": [
    "#### change configmode\n",
    "changePLconfigMode(\"pcap\", True)"
   ]
  },
  {
   "cell_type": "code",
   "execution_count": 9,
   "id": "5f5566b4",
   "metadata": {},
   "outputs": [
    {
     "data": {
      "application/javascript": [
       "\n",
       "try {\n",
       "require(['notebook/js/codecell'], function(codecell) {\n",
       "  codecell.CodeCell.options_default.highlight_modes[\n",
       "      'magic_text/x-csrc'] = {'reg':[/^%%microblaze/]};\n",
       "  Jupyter.notebook.events.one('kernel_ready.Kernel', function(){\n",
       "      Jupyter.notebook.get_cells().map(function(cell){\n",
       "          if (cell.cell_type == 'code'){ cell.auto_highlight(); } }) ;\n",
       "  });\n",
       "});\n",
       "} catch (e) {};\n"
      ]
     },
     "metadata": {},
     "output_type": "display_data"
    },
    {
     "data": {
      "application/javascript": [
       "\n",
       "try {\n",
       "require(['notebook/js/codecell'], function(codecell) {\n",
       "  codecell.CodeCell.options_default.highlight_modes[\n",
       "      'magic_text/x-csrc'] = {'reg':[/^%%pybind11/]};\n",
       "  Jupyter.notebook.events.one('kernel_ready.Kernel', function(){\n",
       "      Jupyter.notebook.get_cells().map(function(cell){\n",
       "          if (cell.cell_type == 'code'){ cell.auto_highlight(); } }) ;\n",
       "  });\n",
       "});\n",
       "} catch (e) {};\n"
      ]
     },
     "metadata": {},
     "output_type": "display_data"
    }
   ],
   "source": [
    "#### load overlay\n",
    "overlay  = Overlay(PRJ_HW_DIR + FULL_BS_NAME)"
   ]
  },
  {
   "cell_type": "code",
   "execution_count": 10,
   "id": "2d6ec143",
   "metadata": {},
   "outputs": [],
   "source": [
    "#### get the device\n",
    "dmaIp      = overlay.axi_dma_0\n",
    "\n",
    "#### dfx controller ip\n",
    "dfxCtrlIp  = overlay.dfx_controller_0\n",
    "\n",
    "dfxCtrlIp.setCheckOnRead(False)\n",
    "dfxCtrlIp.setCheckOnWrite(False)\n",
    "\n",
    "#### magic sequencer ip\n",
    "magicSeqIp = overlay.MagicSeqTop_0\n",
    "\n",
    "magicSeqIp.setCheckOnRead (False)\n",
    "magicSeqIp.setCheckOnWrite(False)"
   ]
  },
  {
   "cell_type": "code",
   "execution_count": 11,
   "id": "dddddf2b",
   "metadata": {},
   "outputs": [
    {
     "name": "stdout",
     "output_type": "stream",
     "text": [
      "regbank detect index (6, 7)\n",
      "regbank detect index (2, 5)\n"
     ]
    }
   ],
   "source": [
    "dfxCtrlIp.config(PRJ_HW_DIR + DFX_CONFIG_FILE)"
   ]
  },
  {
   "cell_type": "code",
   "execution_count": 12,
   "id": "e8d66a8a",
   "metadata": {},
   "outputs": [
    {
     "name": "stdout",
     "output_type": "stream",
     "text": [
      "regIdxSize =  4\n"
     ]
    }
   ],
   "source": [
    "print(\"regIdxSize = \", dfxCtrlIp.BLS_REGID)"
   ]
  },
  {
   "cell_type": "code",
   "execution_count": 13,
   "id": "ddca0fca",
   "metadata": {},
   "outputs": [
    {
     "name": "stdout",
     "output_type": "stream",
     "text": [
      "CHANGE CMD STDOUT: 0xFFCA3008 0xFFFFFFFF 0x0\n",
      "\n",
      "CHANGE CMD ERROR : \n",
      "--------------------------------\n",
      "TRIGGER CMD STDOUT: 0xFFCA3008\n",
      "\n",
      "TRIGGER CMD ERROR : \n",
      "--------------------------------\n",
      "READ CMD STDOUT: 0x0\n",
      "\n",
      "READ CMD ERROR : \n",
      "--------------------------------\n"
     ]
    }
   ],
   "source": [
    "### change reconfigure mode\n",
    "changePLconfigMode(\"icap\", True)"
   ]
  },
  {
   "cell_type": "code",
   "execution_count": 14,
   "id": "d2d6d63e",
   "metadata": {},
   "outputs": [
    {
     "name": "stdout",
     "output_type": "stream",
     "text": [
      "[get status register] @ 0x0\n",
      ">>status of the system vs0\n",
      "-------> Is device shutdown:  1\n",
      "-------> current error code:  0x0\n",
      "-------> active RM_ID      :  0x0\n",
      "-------> state      :  0x1\n"
     ]
    }
   ],
   "source": [
    "dfxCtrlIp.printStatus()"
   ]
  },
  {
   "cell_type": "code",
   "execution_count": 15,
   "id": "57fae275",
   "metadata": {},
   "outputs": [
    {
     "name": "stdout",
     "output_type": "stream",
     "text": [
      "[cmd] shutdown the engine\n",
      "[cmd] shutdown successfully\n",
      "shutdown dfx Controller\n",
      "[set ctrl register] @ 0x0  with command  0x0\n"
     ]
    }
   ],
   "source": [
    "#### shutdown all system\n",
    "\n",
    "magicSeqIp.shutdownEngine()\n",
    "dfxCtrlIp.shutdownEngine()"
   ]
  },
  {
   "cell_type": "code",
   "execution_count": 16,
   "id": "895beba2",
   "metadata": {},
   "outputs": [
    {
     "name": "stdout",
     "output_type": "stream",
     "text": [
      "dma physical address:  0xa0000000\n",
      "dfx  Ctrl physical address:  0xa0010000\n"
     ]
    }
   ],
   "source": [
    "##### set the sequencer\n",
    "dmaPhyAddr     =  overlay.ip_dict['axi_dma_0']['phys_addr']\n",
    "dfxCtrlPhyAddr =  overlay.ip_dict['dfx_controller_0']['phys_addr']\n",
    "\n",
    "print(\"dma physical address: \", hex(dmaPhyAddr))\n",
    "print(\"dfx  Ctrl physical address: \", hex(dfxCtrlPhyAddr))"
   ]
  },
  {
   "cell_type": "code",
   "execution_count": 17,
   "id": "3f07e398",
   "metadata": {},
   "outputs": [
    {
     "name": "stdout",
     "output_type": "stream",
     "text": [
      "------ before init magic seq------\n",
      "----- MAIN STATUS ------------------\n",
      "--------> STATUS =  SHUTDOWN\n",
      "--------> MAINCNT =  0\n",
      "--------> ENDCNT  =  0\n",
      "--------> DMAADDR  =  0x0\n",
      "--------> DFXADDR  =  0x0\n",
      "----- SLOT DATA ------------------\n",
      "------> slot 0 :\n",
      "        srcAddr   : 0x0,  srcSize   : 0x0\n",
      "        desAddr   : 0x0,  desSize   : 0x0\n",
      "        status    : 0x0\n",
      "        profileCnt: 0x0\n",
      "------> slot 1 :\n",
      "        srcAddr   : 0x0,  srcSize   : 0x0\n",
      "        desAddr   : 0x0,  desSize   : 0x0\n",
      "        status    : 0x0\n",
      "        profileCnt: 0x0\n",
      "------> slot 2 :\n",
      "        srcAddr   : 0x0,  srcSize   : 0x0\n",
      "        desAddr   : 0x0,  desSize   : 0x0\n",
      "        status    : 0x0\n",
      "        profileCnt: 0x0\n",
      "------> slot 3 :\n",
      "        srcAddr   : 0x0,  srcSize   : 0x0\n",
      "        desAddr   : 0x0,  desSize   : 0x0\n",
      "        status    : 0x0\n",
      "        profileCnt: 0x0\n",
      "-------------------------------\n",
      "None\n",
      "------ init magic sequence METADATA bank 0 -------------------------\n",
      "-------------init all data buffer -------------\n",
      "start copy from input to allocate buffer\n",
      "copy finish\n",
      "------------- init all bank 1 ------------------\n",
      "------------- after init magic seq------\n",
      "----- MAIN STATUS ------------------\n",
      "--------> STATUS =  SHUTDOWN\n",
      "--------> MAINCNT =  0\n",
      "--------> ENDCNT  =  2\n",
      "--------> DMAADDR  =  0xa0000000\n",
      "--------> DFXADDR  =  0xa0010000\n",
      "----- SLOT DATA ------------------\n",
      "------> slot 0 :\n",
      "        srcAddr   : 0x18ba000,  srcSize   : 0x3c0\n",
      "        desAddr   : 0x18bb000,  desSize   : 0x780\n",
      "        status    : 0x0\n",
      "        profileCnt: 0x0\n",
      "------> slot 1 :\n",
      "        srcAddr   : 0x18bb000,  srcSize   : 0x780\n",
      "        desAddr   : 0x18bc000,  desSize   : 0x3c0\n",
      "        status    : 0x0\n",
      "        profileCnt: 0x0\n",
      "------> slot 2 :\n",
      "        srcAddr   : 0x18bc000,  srcSize   : 0x3c0\n",
      "        desAddr   : 0x18bd000,  desSize   : 0x64\n",
      "        status    : 0x0\n",
      "        profileCnt: 0x0\n",
      "------> slot 3 :\n",
      "        srcAddr   : 0x0,  srcSize   : 0x0\n",
      "        desAddr   : 0x0,  desSize   : 0x0\n",
      "        status    : 0x0\n",
      "        profileCnt: 0x0\n",
      "-------------------------------\n",
      "None\n"
     ]
    }
   ],
   "source": [
    "##### initialize magic seq\n",
    "print(\"------ before init magic seq------\")\n",
    "print(magicSeqIp.printDebug())\n",
    "\n",
    "print(\"------ init magic sequence METADATA bank 0 -------------------------\")\n",
    "magicSeqIp.setEndCnt(2) ### use the last index\n",
    "magicSeqIp.setDmaAddr(dmaPhyAddr)\n",
    "magicSeqIp.setDfxAddr(dfxCtrlPhyAddr)\n",
    "inputX = np.random.rand(*INPUT_SHAPE).astype(np.float32)\n",
    "print(\"-------------init all data buffer -------------\")\n",
    "buf_input   , buf_input_phya   , buf_input_sz    = allocDataUint(allocShape= INPUT_SHAPE, allocType= np.float32, inputX = inputX)\n",
    "buf_ml2_in  , buf_ml2_in_phya  , buf_ml2_in_sz   = allocDataUint(allocShape= ML2IN_SHAPE, allocType= np.float32)\n",
    "buf_ml3_in  , buf_ml3_in_phya  , buf_ml3_in_sz   = allocDataUint(allocShape= ML3IN_SHAPE  , allocType= np.float32)\n",
    "buf_out     , buf_out_phy      , buf_out_sz      = allocDataUint(allocShape= DES_SHAPE  , allocType= np.float32)\n",
    "\n",
    "print(\"------------- init all bank 1 ------------------\")\n",
    "magicSeqIp.setWholeSlot(0, [buf_input_phya , buf_input_sz , buf_ml2_in_phya, buf_ml2_in_sz, 0, 0])\n",
    "magicSeqIp.setWholeSlot(1, [buf_ml2_in_phya, buf_ml2_in_sz, buf_ml3_in_phya, buf_ml3_in_sz, 0, 0])\n",
    "magicSeqIp.setWholeSlot(2, [buf_ml3_in_phya, buf_ml3_in_sz, buf_out_phy    , buf_out_sz   , 0, 0])\n",
    "\n",
    "\n",
    "print(\"------------- after init magic seq------\")\n",
    "print(magicSeqIp.printDebug())"
   ]
  },
  {
   "cell_type": "code",
   "execution_count": 18,
   "id": "ce57da3a",
   "metadata": {},
   "outputs": [
    {
     "name": "stdout",
     "output_type": "stream",
     "text": [
      "------ allocate bit steram CMA for each trigger ------\n",
      ">>allocateBitStream\n",
      "opening file  /home/xilinx/jupyter_notebooks/dfx4ml/hw/ml1.bin\n",
      "copying the data\n",
      "copy complete\n",
      "file size  18681736\n",
      "---------------------------------\n",
      ">>allocateBitStream\n",
      "opening file  /home/xilinx/jupyter_notebooks/dfx4ml/hw/ml2.bin\n",
      "copying the data\n",
      "copy complete\n",
      "file size  18681736\n",
      "---------------------------------\n",
      ">>allocateBitStream\n",
      "opening file  /home/xilinx/jupyter_notebooks/dfx4ml/hw/ml3.bin\n",
      "copying the data\n",
      "copy complete\n",
      "file size  18681736\n",
      "---------------------------------\n"
     ]
    }
   ],
   "source": [
    "##### initialize dfx controller\n",
    "print(\"------ allocate bit steram CMA for each trigger ------\")\n",
    "\n",
    "######## set trigger 0\n",
    "ml1_ip_buf, ml1_addr, ml1_size = \\\n",
    "    dfxCtrlIp.allocateBitStreamCMA(PRJ_HW_DIR + PAR_BS_NAME_ML1)\n",
    "######## set trigger 1\n",
    "ml2_ip_buf, ml2_addr, ml2_size = \\\n",
    "    dfxCtrlIp.allocateBitStreamCMA(PRJ_HW_DIR + PAR_BS_NAME_ML2)\n",
    "######## set trigger 2\n",
    "ml3_ip_buf, ml3_addr, ml3_size = \\\n",
    "    dfxCtrlIp.allocateBitStreamCMA(PRJ_HW_DIR + PAR_BS_NAME_ML3)"
   ]
  },
  {
   "cell_type": "code",
   "execution_count": 19,
   "id": "063c1db7",
   "metadata": {},
   "outputs": [
    {
     "name": "stdout",
     "output_type": "stream",
     "text": [
      "setting RM Mapping to  0\n",
      "[set RM MAP] @ 0x40  info  0x0\n",
      "setting RM INFO to  0\n",
      "control value for active low reset is  0x10\n",
      "[get RM INFO] bsIdxAddr@ 0x80  ctrlAddr@ 0x84\n",
      "setting BS INFO to  0  with streamAddress:  2017460224  with size:  18681736\n",
      "[get BS INFO] streamAddr@ 0xc4  sizeAddr@ 0xc8\n",
      "setting RM Mapping to  1\n",
      "[set RM MAP] @ 0x44  info  0x1\n",
      "setting RM INFO to  1\n",
      "control value for active low reset is  0x10\n",
      "[get RM INFO] bsIdxAddr@ 0x88  ctrlAddr@ 0x8c\n",
      "setting BS INFO to  1  with streamAddress:  2036334592  with size:  18681736\n",
      "[get BS INFO] streamAddr@ 0xd4  sizeAddr@ 0xd8\n",
      "setting RM Mapping to  2\n",
      "[set RM MAP] @ 0x48  info  0x2\n",
      "setting RM INFO to  2\n",
      "control value for active low reset is  0x10\n",
      "[get RM INFO] bsIdxAddr@ 0x90  ctrlAddr@ 0x94\n",
      "setting BS INFO to  2  with streamAddress:  2055208960  with size:  18681736\n",
      "[get BS INFO] streamAddr@ 0xe4  sizeAddr@ 0xe8\n"
     ]
    }
   ],
   "source": [
    "##### initialize dfx controller2\n",
    "dfxCtrlIp.setSimpleMetaData(0, ml1_addr, ml1_size)\n",
    "dfxCtrlIp.setSimpleMetaData(1, ml2_addr, ml2_size)\n",
    "dfxCtrlIp.setSimpleMetaData(2, ml3_addr, ml3_size)"
   ]
  },
  {
   "cell_type": "code",
   "execution_count": 20,
   "id": "930c3a95",
   "metadata": {},
   "outputs": [
    {
     "name": "stdout",
     "output_type": "stream",
     "text": [
      "[get status register] @ 0x0\n",
      ">>status of the system vs0\n",
      "-------> Is device shutdown:  1\n",
      "-------> current error code:  0x0\n",
      "-------> active RM_ID      :  0x0\n",
      "-------> state      :  0x1\n",
      "get metadata info for row 0\n",
      "[get RM MAP] @ 0x40\n",
      "RM MAPPER:  0\n",
      "[get RM INFO] bsIdxAddr@ 0x80  ctrlAddr@ 0x84\n",
      "RM INFO  :  (0, 16)\n",
      "[get BS INFO] streamAddr@ 0xc4  sizeAddr@ 0xc8\n",
      "BS INFO  :  (0, 2017460224, 18681736)\n",
      "get metadata info for row 1\n",
      "[get RM MAP] @ 0x44\n",
      "RM MAPPER:  1\n",
      "[get RM INFO] bsIdxAddr@ 0x88  ctrlAddr@ 0x8c\n",
      "RM INFO  :  (1, 16)\n",
      "[get BS INFO] streamAddr@ 0xd4  sizeAddr@ 0xd8\n",
      "BS INFO  :  (0, 2036334592, 18681736)\n",
      "get metadata info for row 2\n",
      "[get RM MAP] @ 0x48\n",
      "RM MAPPER:  2\n",
      "[get RM INFO] bsIdxAddr@ 0x90  ctrlAddr@ 0x94\n",
      "RM INFO  :  (2, 16)\n",
      "[get BS INFO] streamAddr@ 0xe4  sizeAddr@ 0xe8\n",
      "BS INFO  :  (0, 2055208960, 18681736)\n"
     ]
    }
   ],
   "source": [
    "##### check dfx controller3\n",
    "dfxCtrlIp.printStatus()\n",
    "dfxCtrlIp.printSimpleMetaData(0)\n",
    "dfxCtrlIp.printSimpleMetaData(1)\n",
    "dfxCtrlIp.printSimpleMetaData(2)"
   ]
  },
  {
   "cell_type": "code",
   "execution_count": 21,
   "id": "aae0f45a",
   "metadata": {},
   "outputs": [
    {
     "name": "stdout",
     "output_type": "stream",
     "text": [
      "trig the rmId  0\n",
      "[set Ctrl Trigger] @ 0x4\n",
      "restart the dfx Controller with no status\n",
      "[set ctrl register] @ 0x0  with command  0x1\n"
     ]
    }
   ],
   "source": [
    "dfxCtrlIp.trigger(0)\n",
    "dfxCtrlIp.restartNoStatus()"
   ]
  },
  {
   "cell_type": "code",
   "execution_count": 22,
   "id": "f31f41fa",
   "metadata": {},
   "outputs": [
    {
     "name": "stdout",
     "output_type": "stream",
     "text": [
      "[get status register] @ 0x0\n",
      ">>status of the system vs0\n",
      "-------> Is device shutdown:  0\n",
      "-------> current error code:  0x0\n",
      "-------> active RM_ID      :  0x0\n",
      "-------> state      :  0x7\n"
     ]
    }
   ],
   "source": [
    "dfxCtrlIp.printStatus()"
   ]
  },
  {
   "cell_type": "code",
   "execution_count": 23,
   "id": "6b658b5e",
   "metadata": {},
   "outputs": [
    {
     "name": "stdout",
     "output_type": "stream",
     "text": [
      "[cmd] start the engine\n",
      "[cmd] start the successfully\n"
     ]
    }
   ],
   "source": [
    "##### start dfx controller3\n",
    "magicSeqIp.startEngine()"
   ]
  },
  {
   "cell_type": "code",
   "execution_count": 25,
   "id": "842b88cd",
   "metadata": {},
   "outputs": [
    {
     "name": "stdout",
     "output_type": "stream",
     "text": [
      "----- MAIN STATUS ------------------\n",
      "--------> STATUS =  SHUTDOWN\n",
      "--------> MAINCNT =  0\n",
      "--------> ENDCNT  =  2\n",
      "--------> DMAADDR  =  0xa0000000\n",
      "--------> DFXADDR  =  0xa0010000\n",
      "----- SLOT DATA ------------------\n",
      "------> slot 0 :\n",
      "        srcAddr   : 0x18ba000,  srcSize   : 0x3c0\n",
      "        desAddr   : 0x18bb000,  desSize   : 0x780\n",
      "        status    : 0x0\n",
      "        profileCnt: 0x474434\n",
      "------> slot 1 :\n",
      "        srcAddr   : 0x18bb000,  srcSize   : 0x780\n",
      "        desAddr   : 0x18bc000,  desSize   : 0x3c0\n",
      "        status    : 0x0\n",
      "        profileCnt: 0x474433\n",
      "------> slot 2 :\n",
      "        srcAddr   : 0x18bc000,  srcSize   : 0x3c0\n",
      "        desAddr   : 0x18bd000,  desSize   : 0x64\n",
      "        status    : 0x0\n",
      "        profileCnt: 0x474434\n",
      "------> slot 3 :\n",
      "        srcAddr   : 0x0,  srcSize   : 0x0\n",
      "        desAddr   : 0x0,  desSize   : 0x0\n",
      "        status    : 0x0\n",
      "        profileCnt: 0x0\n",
      "-------------------------------\n",
      "None\n"
     ]
    }
   ],
   "source": [
    "print(magicSeqIp.printDebug())"
   ]
  },
  {
   "cell_type": "code",
   "execution_count": 26,
   "id": "1f6a3d0e",
   "metadata": {},
   "outputs": [],
   "source": [
    "dmaIp = overlay.axi_dma_0"
   ]
  },
  {
   "cell_type": "code",
   "execution_count": 27,
   "id": "ebab8282",
   "metadata": {},
   "outputs": [
    {
     "name": "stdout",
     "output_type": "stream",
     "text": [
      "4096\n"
     ]
    }
   ],
   "source": [
    "print(dmaIp.read(0x34))"
   ]
  },
  {
   "cell_type": "code",
   "execution_count": 31,
   "id": "4eb648c7",
   "metadata": {},
   "outputs": [
    {
     "name": "stdout",
     "output_type": "stream",
     "text": [
      "[[[0.00000000e+00 0.00000000e+00 0.00000000e+00 0.00000000e+00\n",
      "   8.39996338e-02 5.49316406e-04 0.00000000e+00 4.95986938e-01\n",
      "   0.00000000e+00 4.97192383e-01 0.00000000e+00 0.00000000e+00\n",
      "   0.00000000e+00 9.79003906e-01 6.05468750e-01 0.00000000e+00]\n",
      "  [0.00000000e+00 0.00000000e+00 0.00000000e+00 0.00000000e+00\n",
      "   0.00000000e+00 6.48345947e-02 0.00000000e+00 3.70285034e-01\n",
      "   0.00000000e+00 3.77166748e-01 0.00000000e+00 0.00000000e+00\n",
      "   0.00000000e+00 2.57629395e-01 3.14819336e-01 0.00000000e+00]\n",
      "  [0.00000000e+00 0.00000000e+00 0.00000000e+00 0.00000000e+00\n",
      "   0.00000000e+00 0.00000000e+00 0.00000000e+00 3.31314087e-01\n",
      "   0.00000000e+00 8.80584717e-02 0.00000000e+00 0.00000000e+00\n",
      "   0.00000000e+00 3.15826416e-01 4.45693970e-01 0.00000000e+00]\n",
      "  [0.00000000e+00 0.00000000e+00 2.38037109e-03 0.00000000e+00\n",
      "   1.75476074e-03 6.16455078e-03 0.00000000e+00 1.17034912e-02\n",
      "   5.02929688e-02 5.43960571e-01 5.18035889e-02 0.00000000e+00\n",
      "   2.92770386e-01 3.47488403e-01 0.00000000e+00 0.00000000e+00]\n",
      "  [7.53784180e-03 0.00000000e+00 2.36648560e-01 0.00000000e+00\n",
      "   1.23535156e-01 1.07086182e-01 0.00000000e+00 0.00000000e+00\n",
      "   2.06787109e-01 2.61947632e-01 0.00000000e+00 0.00000000e+00\n",
      "   3.16284180e-01 2.97363281e-01 0.00000000e+00 0.00000000e+00]\n",
      "  [0.00000000e+00 0.00000000e+00 0.00000000e+00 0.00000000e+00\n",
      "   0.00000000e+00 9.13543701e-02 0.00000000e+00 1.70654297e-01\n",
      "   0.00000000e+00 5.98175049e-01 0.00000000e+00 0.00000000e+00\n",
      "   0.00000000e+00 1.04147339e+00 3.66470337e-01 0.00000000e+00]]\n",
      "\n",
      " [[0.00000000e+00 0.00000000e+00 0.00000000e+00 0.00000000e+00\n",
      "   0.00000000e+00 2.38723755e-01 0.00000000e+00 1.29776001e-01\n",
      "   0.00000000e+00 4.56787109e-01 0.00000000e+00 0.00000000e+00\n",
      "   0.00000000e+00 3.82019043e-01 2.44674683e-01 0.00000000e+00]\n",
      "  [3.23486328e-03 0.00000000e+00 0.00000000e+00 0.00000000e+00\n",
      "   1.59545898e-01 1.26632690e-01 5.99822998e-02 1.50466919e-01\n",
      "   0.00000000e+00 9.62371826e-02 0.00000000e+00 0.00000000e+00\n",
      "   1.83044434e-01 3.55773926e-01 3.54003906e-02 0.00000000e+00]\n",
      "  [0.00000000e+00 0.00000000e+00 0.00000000e+00 0.00000000e+00\n",
      "   1.59301758e-01 4.59060669e-01 5.42907715e-02 2.75543213e-01\n",
      "   0.00000000e+00 1.04461670e-01 0.00000000e+00 0.00000000e+00\n",
      "   8.83178711e-02 5.56686401e-01 2.45681763e-01 0.00000000e+00]\n",
      "  [0.00000000e+00 0.00000000e+00 0.00000000e+00 0.00000000e+00\n",
      "   0.00000000e+00 1.51916504e-01 0.00000000e+00 1.80175781e-01\n",
      "   0.00000000e+00 4.70718384e-01 1.11801147e-01 0.00000000e+00\n",
      "   0.00000000e+00 5.49911499e-01 1.58386230e-01 0.00000000e+00]\n",
      "  [0.00000000e+00 0.00000000e+00 0.00000000e+00 0.00000000e+00\n",
      "   0.00000000e+00 4.85305786e-01 0.00000000e+00 2.13150024e-01\n",
      "   0.00000000e+00 0.00000000e+00 0.00000000e+00 0.00000000e+00\n",
      "   0.00000000e+00 5.73272705e-01 7.61871338e-02 0.00000000e+00]\n",
      "  [0.00000000e+00 0.00000000e+00 0.00000000e+00 0.00000000e+00\n",
      "   8.64105225e-02 2.42446899e-01 0.00000000e+00 0.00000000e+00\n",
      "   6.71691895e-02 2.70675659e-01 0.00000000e+00 0.00000000e+00\n",
      "   0.00000000e+00 5.35552979e-01 1.78924561e-01 0.00000000e+00]]\n",
      "\n",
      " [[0.00000000e+00 0.00000000e+00 0.00000000e+00 0.00000000e+00\n",
      "   0.00000000e+00 0.00000000e+00 0.00000000e+00 1.65176392e-01\n",
      "   4.70581055e-02 7.74353027e-01 0.00000000e+00 0.00000000e+00\n",
      "   0.00000000e+00 7.92770386e-01 4.27062988e-01 0.00000000e+00]\n",
      "  [0.00000000e+00 0.00000000e+00 0.00000000e+00 0.00000000e+00\n",
      "   3.96728516e-02 0.00000000e+00 0.00000000e+00 0.00000000e+00\n",
      "   2.50106812e-01 5.37368774e-01 0.00000000e+00 0.00000000e+00\n",
      "   0.00000000e+00 4.88525391e-01 2.92755127e-01 0.00000000e+00]\n",
      "  [0.00000000e+00 0.00000000e+00 0.00000000e+00 0.00000000e+00\n",
      "   0.00000000e+00 5.70388794e-01 0.00000000e+00 1.29074097e-01\n",
      "   0.00000000e+00 0.00000000e+00 0.00000000e+00 2.87216187e-01\n",
      "   2.73757935e-01 0.00000000e+00 0.00000000e+00 0.00000000e+00]\n",
      "  [0.00000000e+00 0.00000000e+00 1.67236328e-02 0.00000000e+00\n",
      "   0.00000000e+00 6.35375977e-02 0.00000000e+00 0.00000000e+00\n",
      "   0.00000000e+00 5.99975586e-02 0.00000000e+00 0.00000000e+00\n",
      "   1.19171143e-02 3.71719360e-01 0.00000000e+00 0.00000000e+00]\n",
      "  [0.00000000e+00 0.00000000e+00 0.00000000e+00 0.00000000e+00\n",
      "   0.00000000e+00 2.62908936e-02 0.00000000e+00 5.56167603e-01\n",
      "   0.00000000e+00 2.39562988e-02 0.00000000e+00 0.00000000e+00\n",
      "   0.00000000e+00 9.33685303e-02 4.73159790e-01 0.00000000e+00]\n",
      "  [0.00000000e+00 0.00000000e+00 0.00000000e+00 0.00000000e+00\n",
      "   0.00000000e+00 1.19216919e-01 0.00000000e+00 4.65148926e-01\n",
      "   0.00000000e+00 6.57867432e-01 0.00000000e+00 0.00000000e+00\n",
      "   0.00000000e+00 6.17752075e-01 2.81402588e-01 0.00000000e+00]]\n",
      "\n",
      " [[1.31210327e-01 0.00000000e+00 0.00000000e+00 1.25610352e-01\n",
      "   9.57794189e-02 1.81777954e-01 0.00000000e+00 4.44061279e-01\n",
      "   0.00000000e+00 5.25970459e-02 0.00000000e+00 0.00000000e+00\n",
      "   0.00000000e+00 8.30596924e-01 6.20223999e-01 0.00000000e+00]\n",
      "  [3.12652588e-02 0.00000000e+00 0.00000000e+00 8.45031738e-02\n",
      "   1.38153076e-01 0.00000000e+00 1.90795898e-01 2.86437988e-01\n",
      "   0.00000000e+00 5.33294678e-02 0.00000000e+00 0.00000000e+00\n",
      "   0.00000000e+00 3.35159302e-01 3.99719238e-01 0.00000000e+00]\n",
      "  [1.18911743e-01 0.00000000e+00 0.00000000e+00 0.00000000e+00\n",
      "   3.72634888e-01 3.71551514e-02 0.00000000e+00 6.33239746e-03\n",
      "   7.18231201e-02 4.94903564e-01 0.00000000e+00 0.00000000e+00\n",
      "   0.00000000e+00 9.94323730e-01 3.79714966e-01 0.00000000e+00]\n",
      "  [0.00000000e+00 0.00000000e+00 0.00000000e+00 0.00000000e+00\n",
      "   0.00000000e+00 0.00000000e+00 0.00000000e+00 2.98233032e-01\n",
      "   0.00000000e+00 1.20574951e-01 0.00000000e+00 0.00000000e+00\n",
      "   0.00000000e+00 2.20031738e-01 3.46496582e-01 0.00000000e+00]\n",
      "  [1.52236938e-01 0.00000000e+00 0.00000000e+00 0.00000000e+00\n",
      "   3.65402222e-01 1.95449829e-01 5.02624512e-02 2.85156250e-01\n",
      "   0.00000000e+00 1.11236572e-01 0.00000000e+00 0.00000000e+00\n",
      "   0.00000000e+00 5.00778198e-01 4.03305054e-01 0.00000000e+00]\n",
      "  [0.00000000e+00 0.00000000e+00 0.00000000e+00 0.00000000e+00\n",
      "   0.00000000e+00 8.90350342e-02 0.00000000e+00 0.00000000e+00\n",
      "   1.46286011e-01 5.60211182e-01 0.00000000e+00 0.00000000e+00\n",
      "   0.00000000e+00 7.89108276e-01 1.28341675e-01 0.00000000e+00]]\n",
      "\n",
      " [[2.80151367e-02 0.00000000e+00 0.00000000e+00 0.00000000e+00\n",
      "   3.17825317e-01 0.00000000e+00 1.12503052e-01 2.16705322e-01\n",
      "   5.68542480e-02 6.14471436e-01 0.00000000e+00 0.00000000e+00\n",
      "   0.00000000e+00 7.19696045e-01 5.06195068e-01 0.00000000e+00]\n",
      "  [0.00000000e+00 0.00000000e+00 0.00000000e+00 0.00000000e+00\n",
      "   0.00000000e+00 3.40209961e-01 0.00000000e+00 2.23251343e-01\n",
      "   0.00000000e+00 2.68508911e-01 0.00000000e+00 0.00000000e+00\n",
      "   0.00000000e+00 8.02398682e-01 8.74633789e-02 0.00000000e+00]\n",
      "  [0.00000000e+00 0.00000000e+00 0.00000000e+00 0.00000000e+00\n",
      "   0.00000000e+00 3.18908691e-02 0.00000000e+00 2.25677490e-01\n",
      "   0.00000000e+00 2.95715332e-02 0.00000000e+00 0.00000000e+00\n",
      "   0.00000000e+00 5.28961182e-01 1.92199707e-01 0.00000000e+00]\n",
      "  [0.00000000e+00 0.00000000e+00 0.00000000e+00 0.00000000e+00\n",
      "   3.07922363e-02 3.79135132e-01 0.00000000e+00 1.71508789e-01\n",
      "   0.00000000e+00 3.34014893e-02 0.00000000e+00 0.00000000e+00\n",
      "   0.00000000e+00 6.53961182e-01 2.01339722e-01 0.00000000e+00]\n",
      "  [0.00000000e+00 0.00000000e+00 0.00000000e+00 0.00000000e+00\n",
      "   0.00000000e+00 7.83843994e-02 0.00000000e+00 2.85720825e-01\n",
      "   0.00000000e+00 3.55636597e-01 0.00000000e+00 0.00000000e+00\n",
      "   0.00000000e+00 4.33959961e-01 4.66842651e-01 0.00000000e+00]\n",
      "  [0.00000000e+00 0.00000000e+00 0.00000000e+00 0.00000000e+00\n",
      "   1.17355347e-01 9.28497314e-02 0.00000000e+00 2.02331543e-02\n",
      "   0.00000000e+00 2.60742188e-01 0.00000000e+00 0.00000000e+00\n",
      "   0.00000000e+00 7.39044189e-01 2.24548340e-01 0.00000000e+00]]]\n"
     ]
    }
   ],
   "source": [
    "np_parRes = np.array(buf_ml2_in, dtype=np.float32)\n",
    "print(np_parRes)"
   ]
  },
  {
   "cell_type": "code",
   "execution_count": null,
   "id": "b5df936b",
   "metadata": {},
   "outputs": [],
   "source": [
    "# print(buf_out)"
   ]
  },
  {
   "cell_type": "code",
   "execution_count": null,
   "id": "cf2aec3d",
   "metadata": {},
   "outputs": [],
   "source": [
    "# dfxCtrlIp.trigger(0)\n",
    "# dfxCtrlIp.printStatus()"
   ]
  },
  {
   "cell_type": "code",
   "execution_count": null,
   "id": "48197ce9",
   "metadata": {},
   "outputs": [],
   "source": [
    "# def sendData(dmaIp, bufSrc, bufDes):\n",
    "#     print(\"----------> set sending channel\")\n",
    "#     #print(X_input)\n",
    "#     dmaIp.sendchannel.transfer(bufSrc)\n",
    "#     print(\"----------> set receiving channel\")\n",
    "#     dmaIp.recvchannel.transfer(bufDes)\n",
    "#     print(\"----------> wait for sending channel\")\n",
    "#     dmaIp.sendchannel.wait()\n",
    "#     print(\"----------> wait for receiving channel\")\n",
    "#     dmaIp.recvchannel.wait()\n",
    "#     print(\"----------> dma finish\")"
   ]
  },
  {
   "cell_type": "code",
   "execution_count": null,
   "id": "bde0a0bf",
   "metadata": {},
   "outputs": [],
   "source": [
    "#dmaIp = overlay.axi_dma_0"
   ]
  },
  {
   "cell_type": "code",
   "execution_count": null,
   "id": "7f01120c",
   "metadata": {},
   "outputs": [],
   "source": [
    "#sendData(dmaIp, buf_input, buf_ml2_in)"
   ]
  },
  {
   "cell_type": "code",
   "execution_count": null,
   "id": "ecde576c",
   "metadata": {},
   "outputs": [],
   "source": [
    "#print(dmaIp.read(0x34))"
   ]
  },
  {
   "cell_type": "code",
   "execution_count": null,
   "id": "5a6f7fa1",
   "metadata": {},
   "outputs": [],
   "source": [
    "#dfxCtrlIp.trigger(1)\n",
    "#dfxCtrlIp.printStatus()"
   ]
  },
  {
   "cell_type": "code",
   "execution_count": null,
   "id": "9e1dcf15",
   "metadata": {},
   "outputs": [],
   "source": [
    "#sendData(dmaIp, buf_ml2_in, buf_ml3_in)"
   ]
  },
  {
   "cell_type": "code",
   "execution_count": null,
   "id": "801f0493",
   "metadata": {},
   "outputs": [],
   "source": [
    "#print(dmaIp.read(0x34))"
   ]
  },
  {
   "cell_type": "code",
   "execution_count": null,
   "id": "04e20563",
   "metadata": {},
   "outputs": [],
   "source": [
    "#dfxCtrlIp.trigger(2)\n",
    "#dfxCtrlIp.printStatus()"
   ]
  },
  {
   "cell_type": "code",
   "execution_count": null,
   "id": "8d9f66f4",
   "metadata": {},
   "outputs": [],
   "source": [
    "#sendData(dmaIp, buf_ml3_in, buf_out)"
   ]
  },
  {
   "cell_type": "code",
   "execution_count": null,
   "id": "befbe4cd",
   "metadata": {},
   "outputs": [],
   "source": [
    "#print(dmaIp.read(0x34))"
   ]
  },
  {
   "cell_type": "code",
   "execution_count": null,
   "id": "f25b5d60",
   "metadata": {},
   "outputs": [],
   "source": [
    "#print(buf_out)"
   ]
  },
  {
   "cell_type": "code",
   "execution_count": null,
   "id": "7997c51c",
   "metadata": {},
   "outputs": [],
   "source": []
  }
 ],
 "metadata": {
  "kernelspec": {
   "display_name": "Python 3 (ipykernel)",
   "language": "python",
   "name": "python3"
  },
  "language_info": {
   "codemirror_mode": {
    "name": "ipython",
    "version": 3
   },
   "file_extension": ".py",
   "mimetype": "text/x-python",
   "name": "python",
   "nbconvert_exporter": "python",
   "pygments_lexer": "ipython3",
   "version": "3.10.4"
  }
 },
 "nbformat": 4,
 "nbformat_minor": 5
}
